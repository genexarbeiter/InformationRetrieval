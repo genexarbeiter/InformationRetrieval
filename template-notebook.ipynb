{
 "cells": [
  {
   "cell_type": "markdown",
   "id": "742adba1-54cd-47b6-b445-d82cb2250c64",
   "metadata": {},
   "source": [
    "# Template Notebook for Milestones\n",
    "\n",
    "In this notebook you will write your code, producing the required output for each Milestone.\n",
    "\n",
    "Your notebook must contain 3 types of cells:\n",
    "\n",
    "- (1) Code cells: Cells that contain code snippets, capturing one cohesive fragment of your code.\n",
    "- (2) Corresponding explanation cells: Each code cell must be followed by a text cell containing the **english** explanation of what the corresponding code cell does and what it's purpose is\n",
    "- (3) One reflection cell: One cell at the bottom of the notebook that contains your individual reflection on your process working on this milestones in **english**. It could contain technical problems and how you overcame them, it could contain social problems and how you deal with them (group work is hard!), it could contain explanations of prior skills or knowledge that made certain parts of the task easier for you, etc... (those are just suggestions. Your individual reflections will of course contain different/additional aspects)"
   ]
  },
  {
   "cell_type": "code",
   "execution_count": 4,
   "id": "25fa832d-c0ed-41dd-b4a9-68580c1ae974",
   "metadata": {},
   "outputs": [],
   "source": [
    "import json"
   ]
  },
  {
   "cell_type": "code",
   "execution_count": 22,
   "id": "8b3e8a23",
   "metadata": {},
   "outputs": [
    {
     "name": "stdout",
     "output_type": "stream",
     "text": [
      "Example converted dataset:\n",
      "{'doc_id': '2019.sigirconf_workshop-2019birndl.0', 'text': 'Proceedings of the 4th Joint Workshop on Bibliometric-enhanced Information Retrieval and Natural Language Processing for Digital Libraries (BIRNDL 2019) co-located with the 42nd International ACM SIGIR Conference on Research and Development in Information Retrieval (SIGIR 2019), Paris, France, July 25, 2019 Muthu Kumar Chandrasekaran Philipp Mayr 2019 '}\n"
     ]
    }
   ],
   "source": [
    "with open('ir-anthology-07-11-2021-ss23.jsonl', 'r') as json_file:\n",
    "    json_list = list(json_file)\n",
    "\n",
    "datasets = []\n",
    "\n",
    "for json_str in json_list:\n",
    "    result = json.loads(json_str)\n",
    "    authors = \"\"\n",
    "    for author in result['authors']:\n",
    "        authors += author + \" \"\n",
    "    \n",
    "    editors = \"\"\n",
    "    for editor in result['editors']:\n",
    "        editors += editor + \" \"\n",
    "    \n",
    "    abstract = \"\"\n",
    "    if \"abstract\" in result:\n",
    "        abstract = result[\"abstract\"]\n",
    "    \n",
    "    \n",
    "    bookTitle = \"\"\n",
    "    if \"bookTitle\" in result:\n",
    "        bookTitle = result[\"bookTitle\"]\n",
    "    \n",
    "        \n",
    "    doc_id = result['id']\n",
    "    text = (result['title'] + \" \" + authors + \" \" + editors + \" \" + result['year'] + \" \" + abstract + \" \" + bookTitle).replace(\"   \", \" \").replace(\"  \", \" \")\n",
    "    datasets.append({'doc_id': doc_id, 'text': text})\n",
    "\n",
    "print(\"Example converted dataset:\")\n",
    "print(datasets[0])\n",
    "\n",
    "with open(\"ir_datasets.jsonl\", 'w') as f:\n",
    "    for item in datasets:\n",
    "        f.write(json.dumps(item) + \"\\n\")\n",
    "    "
   ]
  },
  {
   "cell_type": "markdown",
   "id": "0440f20e-3c64-44c3-8537-f5065f792f8a",
   "metadata": {},
   "source": [
    "### Documentation\n",
    "\n",
    "This script processes and converts a JSONL file containing information retrieval research paper information into a new JSONL file with only two attributes: id and text, which is useful for search purposes.\n",
    "\n",
    "Open the input file ir-anthology-07-11-2021-ss23.jsonl for reading.\n",
    "Read the file line by line and store the lines in the json_list.\n",
    "Create an empty list datasets to store the processed data.\n",
    "Iterate through each JSON string in json_list. For every element do:\n",
    "\n",
    "    - Load the JSON string into a dictionary named result\n",
    "\n",
    "    - Concatenate the author names in result['authors'] and store them in the authors variable\n",
    "    \n",
    "    - Concatenate the editor names in result['editors'] and store them in the editors variable\n",
    "    \n",
    "    - Check if an abstract is present; if so, store it in the abstract variable\n",
    "    \n",
    "    - Check if a book title is present; if so, store it in the bookTitle variable\n",
    "    \n",
    "    - Extract the document ID from result['id']\n",
    "    \n",
    "    - Create a single text string containing the title, authors, editors, year, abstract, and book title, with extra spaces removed\n",
    "    \n",
    "    - Append a dictionary containing the doc_id and text to the datasets list\n",
    "\n",
    "Open the output file ir_datasets.jsonl for writing.\n",
    "\n",
    "Write each item in the datasets list as a JSON string followed by a newline character to the output file."
   ]
  },
  {
   "cell_type": "markdown",
   "id": "b1f614e3-7fe6-4d84-9f25-47fc9b341ccb",
   "metadata": {},
   "source": [
    "### Reflection\n",
    "\n",
    "The task was tough because we faced a few technical issues, mainly with installing and handling Docker. Also, our programming skills varied, so we needed good communication within our group, making sure everyone could follow the results."
   ]
  },
  {
   "cell_type": "code",
   "execution_count": null,
   "id": "29d9c7e9-8228-4f4f-b942-d460a35eee31",
   "metadata": {},
   "outputs": [],
   "source": []
  }
 ],
 "metadata": {
  "kernelspec": {
   "display_name": "Python 3 (ipykernel)",
   "language": "python",
   "name": "python3"
  },
  "language_info": {
   "codemirror_mode": {
    "name": "ipython",
    "version": 3
   },
   "file_extension": ".py",
   "mimetype": "text/x-python",
   "name": "python",
   "nbconvert_exporter": "python",
   "pygments_lexer": "ipython3",
   "version": "3.10.9"
  }
 },
 "nbformat": 4,
 "nbformat_minor": 5
}
